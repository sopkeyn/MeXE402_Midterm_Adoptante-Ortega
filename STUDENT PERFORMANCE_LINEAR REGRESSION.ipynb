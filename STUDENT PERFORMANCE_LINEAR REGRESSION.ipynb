{
 "cells": [
  {
   "cell_type": "markdown",
   "metadata": {},
   "source": [
    "## Linear Regression"
   ]
  },
  {
   "cell_type": "markdown",
   "metadata": {},
   "source": [
    "### Part 1 - Data Preprocessing"
   ]
  },
  {
   "cell_type": "markdown",
   "metadata": {},
   "source": [
    "### Importing the dataset"
   ]
  },
  {
   "cell_type": "code",
   "execution_count": 1,
   "metadata": {},
   "outputs": [],
   "source": [
    "import pandas as pd\n",
    "dataset = pd.read_excel('Student Performance.xlsx') "
   ]
  },
  {
   "cell_type": "code",
   "execution_count": 2,
   "metadata": {},
   "outputs": [
    {
     "data": {
      "text/html": [
       "<div>\n",
       "<style scoped>\n",
       "    .dataframe tbody tr th:only-of-type {\n",
       "        vertical-align: middle;\n",
       "    }\n",
       "\n",
       "    .dataframe tbody tr th {\n",
       "        vertical-align: top;\n",
       "    }\n",
       "\n",
       "    .dataframe thead th {\n",
       "        text-align: right;\n",
       "    }\n",
       "</style>\n",
       "<table border=\"1\" class=\"dataframe\">\n",
       "  <thead>\n",
       "    <tr style=\"text-align: right;\">\n",
       "      <th></th>\n",
       "      <th>school</th>\n",
       "      <th>sex</th>\n",
       "      <th>age</th>\n",
       "      <th>address</th>\n",
       "      <th>famsize</th>\n",
       "      <th>Parent Status</th>\n",
       "      <th>Medu</th>\n",
       "      <th>Fedu</th>\n",
       "      <th>Mjob</th>\n",
       "      <th>Fjob</th>\n",
       "      <th>...</th>\n",
       "      <th>famrel</th>\n",
       "      <th>freetime</th>\n",
       "      <th>goout</th>\n",
       "      <th>Dalc</th>\n",
       "      <th>Walc</th>\n",
       "      <th>health</th>\n",
       "      <th>absences</th>\n",
       "      <th>G1</th>\n",
       "      <th>G2</th>\n",
       "      <th>G3</th>\n",
       "    </tr>\n",
       "  </thead>\n",
       "  <tbody>\n",
       "    <tr>\n",
       "      <th>0</th>\n",
       "      <td>6</td>\n",
       "      <td>0</td>\n",
       "      <td>18</td>\n",
       "      <td>3000</td>\n",
       "      <td>3200</td>\n",
       "      <td>3500</td>\n",
       "      <td>4</td>\n",
       "      <td>4</td>\n",
       "      <td>3600</td>\n",
       "      <td>3900</td>\n",
       "      <td>...</td>\n",
       "      <td>4</td>\n",
       "      <td>3</td>\n",
       "      <td>4</td>\n",
       "      <td>1</td>\n",
       "      <td>1</td>\n",
       "      <td>3</td>\n",
       "      <td>4</td>\n",
       "      <td>0</td>\n",
       "      <td>11</td>\n",
       "      <td>11</td>\n",
       "    </tr>\n",
       "    <tr>\n",
       "      <th>1</th>\n",
       "      <td>6</td>\n",
       "      <td>0</td>\n",
       "      <td>17</td>\n",
       "      <td>3000</td>\n",
       "      <td>3200</td>\n",
       "      <td>3400</td>\n",
       "      <td>1</td>\n",
       "      <td>1</td>\n",
       "      <td>3600</td>\n",
       "      <td>3800</td>\n",
       "      <td>...</td>\n",
       "      <td>5</td>\n",
       "      <td>3</td>\n",
       "      <td>3</td>\n",
       "      <td>1</td>\n",
       "      <td>1</td>\n",
       "      <td>3</td>\n",
       "      <td>2</td>\n",
       "      <td>9</td>\n",
       "      <td>11</td>\n",
       "      <td>11</td>\n",
       "    </tr>\n",
       "    <tr>\n",
       "      <th>2</th>\n",
       "      <td>6</td>\n",
       "      <td>0</td>\n",
       "      <td>15</td>\n",
       "      <td>3000</td>\n",
       "      <td>3300</td>\n",
       "      <td>3400</td>\n",
       "      <td>1</td>\n",
       "      <td>1</td>\n",
       "      <td>3600</td>\n",
       "      <td>3800</td>\n",
       "      <td>...</td>\n",
       "      <td>4</td>\n",
       "      <td>3</td>\n",
       "      <td>2</td>\n",
       "      <td>2</td>\n",
       "      <td>3</td>\n",
       "      <td>3</td>\n",
       "      <td>6</td>\n",
       "      <td>12</td>\n",
       "      <td>13</td>\n",
       "      <td>12</td>\n",
       "    </tr>\n",
       "    <tr>\n",
       "      <th>3</th>\n",
       "      <td>6</td>\n",
       "      <td>0</td>\n",
       "      <td>15</td>\n",
       "      <td>3000</td>\n",
       "      <td>3200</td>\n",
       "      <td>3400</td>\n",
       "      <td>4</td>\n",
       "      <td>2</td>\n",
       "      <td>3700</td>\n",
       "      <td>4000</td>\n",
       "      <td>...</td>\n",
       "      <td>3</td>\n",
       "      <td>2</td>\n",
       "      <td>2</td>\n",
       "      <td>1</td>\n",
       "      <td>1</td>\n",
       "      <td>5</td>\n",
       "      <td>0</td>\n",
       "      <td>14</td>\n",
       "      <td>14</td>\n",
       "      <td>14</td>\n",
       "    </tr>\n",
       "    <tr>\n",
       "      <th>4</th>\n",
       "      <td>6</td>\n",
       "      <td>0</td>\n",
       "      <td>16</td>\n",
       "      <td>3000</td>\n",
       "      <td>3200</td>\n",
       "      <td>3400</td>\n",
       "      <td>3</td>\n",
       "      <td>3</td>\n",
       "      <td>3800</td>\n",
       "      <td>3800</td>\n",
       "      <td>...</td>\n",
       "      <td>4</td>\n",
       "      <td>3</td>\n",
       "      <td>2</td>\n",
       "      <td>1</td>\n",
       "      <td>2</td>\n",
       "      <td>5</td>\n",
       "      <td>0</td>\n",
       "      <td>11</td>\n",
       "      <td>13</td>\n",
       "      <td>13</td>\n",
       "    </tr>\n",
       "  </tbody>\n",
       "</table>\n",
       "<p>5 rows × 33 columns</p>\n",
       "</div>"
      ],
      "text/plain": [
       "   school  sex  age  address  famsize  Parent Status  Medu  Fedu  Mjob  Fjob  \\\n",
       "0       6    0   18     3000     3200           3500     4     4  3600  3900   \n",
       "1       6    0   17     3000     3200           3400     1     1  3600  3800   \n",
       "2       6    0   15     3000     3300           3400     1     1  3600  3800   \n",
       "3       6    0   15     3000     3200           3400     4     2  3700  4000   \n",
       "4       6    0   16     3000     3200           3400     3     3  3800  3800   \n",
       "\n",
       "   ...  famrel  freetime  goout  Dalc  Walc  health  absences  G1  G2  G3  \n",
       "0  ...       4         3      4     1     1       3         4   0  11  11  \n",
       "1  ...       5         3      3     1     1       3         2   9  11  11  \n",
       "2  ...       4         3      2     2     3       3         6  12  13  12  \n",
       "3  ...       3         2      2     1     1       5         0  14  14  14  \n",
       "4  ...       4         3      2     1     2       5         0  11  13  13  \n",
       "\n",
       "[5 rows x 33 columns]"
      ]
     },
     "execution_count": 2,
     "metadata": {},
     "output_type": "execute_result"
    }
   ],
   "source": [
    "dataset.head() #display 5 rows of dataset\n",
    "\n",
    "#10,000 rows\n",
    "#data points collected from a combined cycle power plant over six years\n",
    "#5 columns: AT ambient temp,V exhaust vacuum, AP ambient pressure, RH relative humdity, PE net hourly  electrical energy output\n",
    "# independent variables: AT, V, AP and RH\n",
    "# dependent variable: PE"
   ]
  },
  {
   "cell_type": "markdown",
   "metadata": {},
   "source": [
    "### Getting the inputs and output"
   ]
  },
  {
   "cell_type": "code",
   "execution_count": 3,
   "metadata": {},
   "outputs": [
    {
     "data": {
      "text/plain": [
       "array([[ 6,  0, 18, ...,  4,  0, 11],\n",
       "       [ 6,  0, 17, ...,  2,  9, 11],\n",
       "       [ 6,  0, 15, ...,  6, 12, 13],\n",
       "       ...,\n",
       "       [ 5,  0, 18, ...,  6, 11, 12],\n",
       "       [ 5,  1, 17, ...,  6, 10, 10],\n",
       "       [ 5,  1, 18, ...,  4, 10, 11]])"
      ]
     },
     "execution_count": 3,
     "metadata": {},
     "output_type": "execute_result"
    }
   ],
   "source": [
    "# [rows,columns]\n",
    "X = dataset.iloc[:,:-1].values\n",
    "X"
   ]
  },
  {
   "cell_type": "code",
   "execution_count": 4,
   "metadata": {},
   "outputs": [
    {
     "data": {
      "text/plain": [
       "array([11, 11, 12, 14, 13, 13, 13, 13, 17, 13, 14, 13, 12, 13, 15, 17, 14,\n",
       "       14,  7, 12, 14, 12, 14, 10, 10, 12, 12, 11, 13, 12, 11, 15, 15, 12,\n",
       "       12, 11, 14, 13, 12, 12, 10, 11, 15, 10, 11, 11, 13, 17, 13, 12, 13,\n",
       "       16,  9, 12, 13, 12, 15, 16, 14, 16, 16, 16, 10, 13, 12, 16, 12, 10,\n",
       "       11, 15, 11, 10, 11, 14, 11, 11, 11, 13, 10, 11, 12,  9, 11, 13, 12,\n",
       "       12, 11, 15, 11, 10, 11, 13, 12, 14, 12, 13, 11, 12, 13, 13,  8, 16,\n",
       "       12, 10, 16, 10, 10, 14, 11, 14, 14, 11, 10, 18, 10, 14, 16, 15, 11,\n",
       "       14, 14, 13, 13, 13, 11,  9, 11, 11, 15, 13, 12,  8, 11, 13, 12, 14,\n",
       "       11, 11, 11, 15, 10, 13, 12, 11, 11, 10, 10, 14,  9, 11,  9, 13, 11,\n",
       "       13, 11,  6, 12, 10, 11, 13, 11,  8, 11,  0, 10, 13, 11, 13,  8, 10,\n",
       "       11, 11,  1, 10,  9,  8, 10,  8,  8,  8, 11, 18, 13, 17, 10, 18, 10,\n",
       "       13, 15, 11, 14, 10, 11, 13, 11, 13, 17, 14, 16, 14, 11, 16, 14, 10,\n",
       "       13, 12, 12, 10, 12, 16, 14, 12, 16, 11, 15, 12, 15, 13, 13,  8, 12,\n",
       "       15, 13, 12, 12, 12, 13, 11, 11, 15, 10, 10, 13, 13, 11, 12, 14, 10,\n",
       "       16,  8, 17, 11, 11, 16, 12, 13, 13, 14,  9, 12, 16, 10, 13, 10, 10,\n",
       "        7,  8,  9, 15, 10, 11, 13,  8,  8, 10, 15, 14, 15, 12, 15, 15, 12,\n",
       "       15, 11, 10, 11, 16, 11, 13,  5, 10, 11,  7, 10,  6, 12, 13, 10, 13,\n",
       "       17, 11, 11, 14, 14, 13, 14, 16, 10, 12, 12, 15, 11, 12, 13, 13,  9,\n",
       "       16, 14, 12, 14, 10, 12, 16, 13, 18, 15, 16, 12, 10, 12, 13, 15, 10,\n",
       "       10, 11, 10, 13, 18, 13, 14, 14, 12, 18, 14, 15, 17, 16, 18, 19, 15,\n",
       "       15, 13, 14, 17, 17, 15, 13,  8, 16, 18, 11, 15, 11, 11, 15, 14, 17,\n",
       "       17, 15, 17, 14, 10, 13, 14, 17, 17, 13, 14, 11, 11,  9, 10, 13, 10,\n",
       "       17, 15, 14, 13, 17, 10, 13, 15, 11, 12, 10, 10, 15, 15, 12, 12, 14,\n",
       "       14, 15, 15, 16, 13, 17, 14, 14, 17, 17, 14, 13, 15, 16, 11, 13, 12,\n",
       "       12, 15, 17, 15, 17, 10, 15, 11, 18, 17, 14, 11, 17, 10, 13, 11, 12,\n",
       "       10, 11, 17,  9, 11, 11, 10,  7, 14, 11, 10,  8, 12, 12, 16,  0,  9,\n",
       "       14,  8, 11,  9, 11,  9, 17, 13, 15, 11, 11,  8,  8,  9, 15, 11, 13,\n",
       "       10, 11, 14, 14, 12, 11,  8, 11, 14, 13, 13, 12, 12, 16, 10, 11, 14,\n",
       "        8, 11,  8, 10, 10, 11,  9, 11,  8, 11, 10, 10,  9, 10, 10,  9, 10,\n",
       "       10,  9, 13, 14, 10, 14, 16,  7, 13,  9, 14, 13, 11, 10, 10,  9, 18,\n",
       "       17, 10,  7,  8,  7, 10, 16, 15,  8,  0,  8, 10,  8,  6,  8, 16, 14,\n",
       "       10,  9, 11,  9, 10,  8, 16, 12, 10, 14, 12, 11, 10, 11, 11, 12,  8,\n",
       "       12,  8, 16, 11, 11, 18, 13, 13, 10, 12, 10, 13, 11, 10, 10, 13, 10,\n",
       "       10, 12,  0, 10,  9,  9,  0,  9,  8,  8,  9,  7, 10, 10, 10, 11, 11,\n",
       "       10,  9, 10,  8,  7,  0, 11,  8,  0,  8,  9, 10,  7, 14, 13, 14, 18,\n",
       "       17, 18,  0, 11, 14, 14, 10, 13,  0, 10,  0, 18, 12, 11, 12,  0, 15,\n",
       "       11, 10, 12, 15, 14, 18, 15, 13, 15, 13,  9, 16,  9, 10,  0, 10, 12,\n",
       "        9, 17, 12,  9, 14, 16,  9, 19,  0, 16,  0,  0, 15, 11, 10, 10, 16,\n",
       "        9, 10, 11])"
      ]
     },
     "execution_count": 4,
     "metadata": {},
     "output_type": "execute_result"
    }
   ],
   "source": [
    "y = dataset.iloc[:,-1].values\n",
    "y"
   ]
  },
  {
   "cell_type": "markdown",
   "metadata": {},
   "source": [
    "### Creating the Training Set and the Test Set"
   ]
  },
  {
   "cell_type": "code",
   "execution_count": 5,
   "metadata": {},
   "outputs": [],
   "source": [
    "# scikitlearn is a library\n",
    "# model_selection is a module\n",
    "# train_test_split is a function\n",
    "from sklearn.model_selection import train_test_split\n",
    "X_train, X_test, y_train, y_test = train_test_split(X, y, test_size= 0.2,random_state=0)"
   ]
  },
  {
   "cell_type": "code",
   "execution_count": 6,
   "metadata": {},
   "outputs": [
    {
     "data": {
      "text/plain": [
       "array([[ 6,  1, 16, ...,  4, 12, 12],\n",
       "       [ 5,  0, 17, ...,  0,  6,  6],\n",
       "       [ 6,  0, 18, ...,  4, 14, 16],\n",
       "       ...,\n",
       "       [ 6,  1, 16, ...,  8, 10,  9],\n",
       "       [ 5,  0, 17, ...,  4,  7,  8],\n",
       "       [ 5,  1, 18, ...,  0, 12, 12]])"
      ]
     },
     "execution_count": 6,
     "metadata": {},
     "output_type": "execute_result"
    }
   ],
   "source": [
    "X_train"
   ]
  },
  {
   "cell_type": "code",
   "execution_count": 7,
   "metadata": {},
   "outputs": [
    {
     "data": {
      "text/plain": [
       "array([[ 5,  1, 16, ...,  2,  9,  7],\n",
       "       [ 6,  0, 17, ...,  0, 14, 14],\n",
       "       [ 6,  1, 18, ...,  6, 15, 16],\n",
       "       ...,\n",
       "       [ 5,  0, 18, ...,  0, 14, 17],\n",
       "       [ 5,  1, 17, ...,  0,  8, 13],\n",
       "       [ 6,  1, 18, ...,  2,  9, 10]])"
      ]
     },
     "execution_count": 7,
     "metadata": {},
     "output_type": "execute_result"
    }
   ],
   "source": [
    "X_test"
   ]
  },
  {
   "cell_type": "code",
   "execution_count": 8,
   "metadata": {},
   "outputs": [
    {
     "data": {
      "text/plain": [
       "array([12,  7, 17, 13, 12, 10,  0,  0, 12, 11, 15, 10, 10, 12, 16, 12,  7,\n",
       "       14, 17, 13, 17, 13, 13, 11, 12, 14, 16, 11,  9, 18, 14, 16, 11, 12,\n",
       "       13, 11, 10,  8,  9, 11,  9, 15, 15, 16, 17,  5, 12, 16,  8,  9, 14,\n",
       "       17, 11, 10,  8, 11, 12,  1, 12, 10,  8, 19,  9, 11, 11, 10, 11, 10,\n",
       "       12, 10,  8, 14, 13, 11,  0,  8, 16, 10, 15, 14, 14, 18, 11, 15, 10,\n",
       "       13, 12, 13, 11, 11, 14, 14, 14, 15,  0, 12, 14,  8, 12, 18,  9,  8,\n",
       "       14, 12, 12, 11, 15,  8, 15, 17,  7, 13, 14, 12,  8,  0, 17, 10, 14,\n",
       "       10, 11, 18, 14, 10, 16, 10,  8, 12, 14,  0, 11, 18, 10, 15, 11, 10,\n",
       "       14, 16, 11, 11,  8, 12, 10, 11, 11, 13,  0, 13, 18, 19, 13, 13, 11,\n",
       "        8, 10, 10,  8, 10, 15, 16,  9,  8, 12, 10, 16, 12, 10, 16, 13, 12,\n",
       "       10, 10,  9, 13, 11,  0, 11, 11, 16,  9, 13,  0, 10, 12, 13, 11, 16,\n",
       "       10,  9, 18, 13,  8, 12, 11,  7, 13, 16, 13, 15, 11, 13, 13,  9, 14,\n",
       "       17, 11, 14, 10, 16,  6, 15,  9, 11, 12,  7, 13, 14,  9,  0, 14, 15,\n",
       "       17,  9, 11, 16, 16, 15, 10, 17, 12, 13, 10, 16, 10, 12, 10, 10, 14,\n",
       "       13, 10, 17, 10, 14, 15,  9, 14, 14,  8, 13, 10, 16, 13, 16, 10,  9,\n",
       "       12, 11, 18,  8, 10, 10,  0, 10, 17, 15, 12, 15, 15, 12, 10, 17, 11,\n",
       "       15, 11, 10, 11, 16, 10,  8, 10, 10, 13,  8,  8, 14,  8,  7, 11, 14,\n",
       "        9, 11, 12, 10, 11, 11,  9, 11,  0,  7, 13, 13, 12, 11, 14, 11, 11,\n",
       "       11, 13, 16, 16, 14, 11, 14, 16, 13, 10, 10, 17, 11, 13, 12, 10, 12,\n",
       "       10, 14, 15, 14, 11, 10, 12, 12,  7,  8,  9, 14, 18, 13, 11, 15, 14,\n",
       "       12,  9, 10, 11, 11, 16, 16, 10, 18, 12, 12, 11, 11, 15, 11, 13, 11,\n",
       "       10, 11, 10, 10, 15, 15, 15, 17, 12, 13, 18, 11, 11, 15, 10, 12, 10,\n",
       "       10, 10, 11,  6, 13, 18, 13, 10, 13, 13, 13, 10, 11,  9, 15, 11, 12,\n",
       "       14, 11, 11, 14, 15, 11, 10,  0,  9, 15, 17, 12, 13, 16, 15, 13, 12,\n",
       "       10, 10, 13, 11, 11, 10, 10, 14, 11, 15, 13, 15, 12, 14, 13, 10, 11,\n",
       "       14, 14, 11, 15, 16,  9, 13, 13, 13, 12, 10,  8, 13,  9,  7, 12, 16,\n",
       "       11, 10, 15, 14,  8, 14, 13, 10, 10,  9, 10, 10, 11, 11, 11,  8, 17,\n",
       "       11, 10, 12,  9, 14, 13, 11, 11, 14, 11, 16, 15,  9, 13, 14, 15, 12,\n",
       "       17, 11,  9, 13, 12, 11, 15, 13, 17, 10, 17, 13, 12,  8, 12, 15, 13,\n",
       "       11, 14,  8, 13, 17, 10, 14, 11, 12,  0,  9, 15, 13, 10, 18, 17, 14,\n",
       "       16, 11, 14, 11, 13, 17, 11,  9, 13])"
      ]
     },
     "execution_count": 8,
     "metadata": {},
     "output_type": "execute_result"
    }
   ],
   "source": [
    "y_train"
   ]
  },
  {
   "cell_type": "code",
   "execution_count": 9,
   "metadata": {},
   "outputs": [
    {
     "data": {
      "text/plain": [
       "array([ 8, 15, 16, 10, 10, 12, 13, 17, 12, 12, 11, 10, 13,  8, 18, 12, 13,\n",
       "       13, 10, 10, 12, 10, 17, 15, 14,  0, 12, 14, 12,  9, 13, 16, 13, 16,\n",
       "       12, 10, 10, 11, 13, 10, 15, 18, 11, 13, 13, 10, 14,  9, 11, 10,  8,\n",
       "       17,  9, 13,  8, 11, 12, 12, 15, 15, 13,  7, 12, 10, 12, 12, 11, 13,\n",
       "       14,  8,  9, 11, 13, 11, 14, 13, 14, 13, 13, 13, 14, 11, 10, 14, 17,\n",
       "       13, 10, 12, 13, 10, 12, 16, 17, 11,  6, 11, 14, 11, 13, 15, 14, 10,\n",
       "        8, 11, 10, 12, 17, 11,  9, 15, 12, 13, 14, 14, 12, 11, 15, 16, 10,\n",
       "       12,  8, 11, 11, 11, 14, 15, 14, 15, 10, 11])"
      ]
     },
     "execution_count": 9,
     "metadata": {},
     "output_type": "execute_result"
    }
   ],
   "source": [
    "y_test"
   ]
  },
  {
   "cell_type": "markdown",
   "metadata": {},
   "source": [
    "## Part 2 - Building and training the model"
   ]
  },
  {
   "cell_type": "markdown",
   "metadata": {},
   "source": [
    "### Building the model"
   ]
  },
  {
   "cell_type": "code",
   "execution_count": 10,
   "metadata": {},
   "outputs": [],
   "source": [
    "# linear_model is the module\n",
    "# `LinearRegression is a class` is defining that `LinearRegression` is a class within the `linear_model` module. It indicates that `LinearRegression` is a blueprint or template for creating objects that represent linear regression models.\n",
    "# Class is a pre-coded blueprint of something we want to build from which objects are created.\n",
    "from sklearn.linear_model import LinearRegression\n",
    "model = LinearRegression()"
   ]
  },
  {
   "cell_type": "markdown",
   "metadata": {},
   "source": [
    "### Training the Model"
   ]
  },
  {
   "cell_type": "code",
   "execution_count": 11,
   "metadata": {},
   "outputs": [
    {
     "data": {
      "text/html": [
       "<style>#sk-container-id-1 {\n",
       "  /* Definition of color scheme common for light and dark mode */\n",
       "  --sklearn-color-text: black;\n",
       "  --sklearn-color-line: gray;\n",
       "  /* Definition of color scheme for unfitted estimators */\n",
       "  --sklearn-color-unfitted-level-0: #fff5e6;\n",
       "  --sklearn-color-unfitted-level-1: #f6e4d2;\n",
       "  --sklearn-color-unfitted-level-2: #ffe0b3;\n",
       "  --sklearn-color-unfitted-level-3: chocolate;\n",
       "  /* Definition of color scheme for fitted estimators */\n",
       "  --sklearn-color-fitted-level-0: #f0f8ff;\n",
       "  --sklearn-color-fitted-level-1: #d4ebff;\n",
       "  --sklearn-color-fitted-level-2: #b3dbfd;\n",
       "  --sklearn-color-fitted-level-3: cornflowerblue;\n",
       "\n",
       "  /* Specific color for light theme */\n",
       "  --sklearn-color-text-on-default-background: var(--sg-text-color, var(--theme-code-foreground, var(--jp-content-font-color1, black)));\n",
       "  --sklearn-color-background: var(--sg-background-color, var(--theme-background, var(--jp-layout-color0, white)));\n",
       "  --sklearn-color-border-box: var(--sg-text-color, var(--theme-code-foreground, var(--jp-content-font-color1, black)));\n",
       "  --sklearn-color-icon: #696969;\n",
       "\n",
       "  @media (prefers-color-scheme: dark) {\n",
       "    /* Redefinition of color scheme for dark theme */\n",
       "    --sklearn-color-text-on-default-background: var(--sg-text-color, var(--theme-code-foreground, var(--jp-content-font-color1, white)));\n",
       "    --sklearn-color-background: var(--sg-background-color, var(--theme-background, var(--jp-layout-color0, #111)));\n",
       "    --sklearn-color-border-box: var(--sg-text-color, var(--theme-code-foreground, var(--jp-content-font-color1, white)));\n",
       "    --sklearn-color-icon: #878787;\n",
       "  }\n",
       "}\n",
       "\n",
       "#sk-container-id-1 {\n",
       "  color: var(--sklearn-color-text);\n",
       "}\n",
       "\n",
       "#sk-container-id-1 pre {\n",
       "  padding: 0;\n",
       "}\n",
       "\n",
       "#sk-container-id-1 input.sk-hidden--visually {\n",
       "  border: 0;\n",
       "  clip: rect(1px 1px 1px 1px);\n",
       "  clip: rect(1px, 1px, 1px, 1px);\n",
       "  height: 1px;\n",
       "  margin: -1px;\n",
       "  overflow: hidden;\n",
       "  padding: 0;\n",
       "  position: absolute;\n",
       "  width: 1px;\n",
       "}\n",
       "\n",
       "#sk-container-id-1 div.sk-dashed-wrapped {\n",
       "  border: 1px dashed var(--sklearn-color-line);\n",
       "  margin: 0 0.4em 0.5em 0.4em;\n",
       "  box-sizing: border-box;\n",
       "  padding-bottom: 0.4em;\n",
       "  background-color: var(--sklearn-color-background);\n",
       "}\n",
       "\n",
       "#sk-container-id-1 div.sk-container {\n",
       "  /* jupyter's `normalize.less` sets `[hidden] { display: none; }`\n",
       "     but bootstrap.min.css set `[hidden] { display: none !important; }`\n",
       "     so we also need the `!important` here to be able to override the\n",
       "     default hidden behavior on the sphinx rendered scikit-learn.org.\n",
       "     See: https://github.com/scikit-learn/scikit-learn/issues/21755 */\n",
       "  display: inline-block !important;\n",
       "  position: relative;\n",
       "}\n",
       "\n",
       "#sk-container-id-1 div.sk-text-repr-fallback {\n",
       "  display: none;\n",
       "}\n",
       "\n",
       "div.sk-parallel-item,\n",
       "div.sk-serial,\n",
       "div.sk-item {\n",
       "  /* draw centered vertical line to link estimators */\n",
       "  background-image: linear-gradient(var(--sklearn-color-text-on-default-background), var(--sklearn-color-text-on-default-background));\n",
       "  background-size: 2px 100%;\n",
       "  background-repeat: no-repeat;\n",
       "  background-position: center center;\n",
       "}\n",
       "\n",
       "/* Parallel-specific style estimator block */\n",
       "\n",
       "#sk-container-id-1 div.sk-parallel-item::after {\n",
       "  content: \"\";\n",
       "  width: 100%;\n",
       "  border-bottom: 2px solid var(--sklearn-color-text-on-default-background);\n",
       "  flex-grow: 1;\n",
       "}\n",
       "\n",
       "#sk-container-id-1 div.sk-parallel {\n",
       "  display: flex;\n",
       "  align-items: stretch;\n",
       "  justify-content: center;\n",
       "  background-color: var(--sklearn-color-background);\n",
       "  position: relative;\n",
       "}\n",
       "\n",
       "#sk-container-id-1 div.sk-parallel-item {\n",
       "  display: flex;\n",
       "  flex-direction: column;\n",
       "}\n",
       "\n",
       "#sk-container-id-1 div.sk-parallel-item:first-child::after {\n",
       "  align-self: flex-end;\n",
       "  width: 50%;\n",
       "}\n",
       "\n",
       "#sk-container-id-1 div.sk-parallel-item:last-child::after {\n",
       "  align-self: flex-start;\n",
       "  width: 50%;\n",
       "}\n",
       "\n",
       "#sk-container-id-1 div.sk-parallel-item:only-child::after {\n",
       "  width: 0;\n",
       "}\n",
       "\n",
       "/* Serial-specific style estimator block */\n",
       "\n",
       "#sk-container-id-1 div.sk-serial {\n",
       "  display: flex;\n",
       "  flex-direction: column;\n",
       "  align-items: center;\n",
       "  background-color: var(--sklearn-color-background);\n",
       "  padding-right: 1em;\n",
       "  padding-left: 1em;\n",
       "}\n",
       "\n",
       "\n",
       "/* Toggleable style: style used for estimator/Pipeline/ColumnTransformer box that is\n",
       "clickable and can be expanded/collapsed.\n",
       "- Pipeline and ColumnTransformer use this feature and define the default style\n",
       "- Estimators will overwrite some part of the style using the `sk-estimator` class\n",
       "*/\n",
       "\n",
       "/* Pipeline and ColumnTransformer style (default) */\n",
       "\n",
       "#sk-container-id-1 div.sk-toggleable {\n",
       "  /* Default theme specific background. It is overwritten whether we have a\n",
       "  specific estimator or a Pipeline/ColumnTransformer */\n",
       "  background-color: var(--sklearn-color-background);\n",
       "}\n",
       "\n",
       "/* Toggleable label */\n",
       "#sk-container-id-1 label.sk-toggleable__label {\n",
       "  cursor: pointer;\n",
       "  display: block;\n",
       "  width: 100%;\n",
       "  margin-bottom: 0;\n",
       "  padding: 0.5em;\n",
       "  box-sizing: border-box;\n",
       "  text-align: center;\n",
       "}\n",
       "\n",
       "#sk-container-id-1 label.sk-toggleable__label-arrow:before {\n",
       "  /* Arrow on the left of the label */\n",
       "  content: \"▸\";\n",
       "  float: left;\n",
       "  margin-right: 0.25em;\n",
       "  color: var(--sklearn-color-icon);\n",
       "}\n",
       "\n",
       "#sk-container-id-1 label.sk-toggleable__label-arrow:hover:before {\n",
       "  color: var(--sklearn-color-text);\n",
       "}\n",
       "\n",
       "/* Toggleable content - dropdown */\n",
       "\n",
       "#sk-container-id-1 div.sk-toggleable__content {\n",
       "  max-height: 0;\n",
       "  max-width: 0;\n",
       "  overflow: hidden;\n",
       "  text-align: left;\n",
       "  /* unfitted */\n",
       "  background-color: var(--sklearn-color-unfitted-level-0);\n",
       "}\n",
       "\n",
       "#sk-container-id-1 div.sk-toggleable__content.fitted {\n",
       "  /* fitted */\n",
       "  background-color: var(--sklearn-color-fitted-level-0);\n",
       "}\n",
       "\n",
       "#sk-container-id-1 div.sk-toggleable__content pre {\n",
       "  margin: 0.2em;\n",
       "  border-radius: 0.25em;\n",
       "  color: var(--sklearn-color-text);\n",
       "  /* unfitted */\n",
       "  background-color: var(--sklearn-color-unfitted-level-0);\n",
       "}\n",
       "\n",
       "#sk-container-id-1 div.sk-toggleable__content.fitted pre {\n",
       "  /* unfitted */\n",
       "  background-color: var(--sklearn-color-fitted-level-0);\n",
       "}\n",
       "\n",
       "#sk-container-id-1 input.sk-toggleable__control:checked~div.sk-toggleable__content {\n",
       "  /* Expand drop-down */\n",
       "  max-height: 200px;\n",
       "  max-width: 100%;\n",
       "  overflow: auto;\n",
       "}\n",
       "\n",
       "#sk-container-id-1 input.sk-toggleable__control:checked~label.sk-toggleable__label-arrow:before {\n",
       "  content: \"▾\";\n",
       "}\n",
       "\n",
       "/* Pipeline/ColumnTransformer-specific style */\n",
       "\n",
       "#sk-container-id-1 div.sk-label input.sk-toggleable__control:checked~label.sk-toggleable__label {\n",
       "  color: var(--sklearn-color-text);\n",
       "  background-color: var(--sklearn-color-unfitted-level-2);\n",
       "}\n",
       "\n",
       "#sk-container-id-1 div.sk-label.fitted input.sk-toggleable__control:checked~label.sk-toggleable__label {\n",
       "  background-color: var(--sklearn-color-fitted-level-2);\n",
       "}\n",
       "\n",
       "/* Estimator-specific style */\n",
       "\n",
       "/* Colorize estimator box */\n",
       "#sk-container-id-1 div.sk-estimator input.sk-toggleable__control:checked~label.sk-toggleable__label {\n",
       "  /* unfitted */\n",
       "  background-color: var(--sklearn-color-unfitted-level-2);\n",
       "}\n",
       "\n",
       "#sk-container-id-1 div.sk-estimator.fitted input.sk-toggleable__control:checked~label.sk-toggleable__label {\n",
       "  /* fitted */\n",
       "  background-color: var(--sklearn-color-fitted-level-2);\n",
       "}\n",
       "\n",
       "#sk-container-id-1 div.sk-label label.sk-toggleable__label,\n",
       "#sk-container-id-1 div.sk-label label {\n",
       "  /* The background is the default theme color */\n",
       "  color: var(--sklearn-color-text-on-default-background);\n",
       "}\n",
       "\n",
       "/* On hover, darken the color of the background */\n",
       "#sk-container-id-1 div.sk-label:hover label.sk-toggleable__label {\n",
       "  color: var(--sklearn-color-text);\n",
       "  background-color: var(--sklearn-color-unfitted-level-2);\n",
       "}\n",
       "\n",
       "/* Label box, darken color on hover, fitted */\n",
       "#sk-container-id-1 div.sk-label.fitted:hover label.sk-toggleable__label.fitted {\n",
       "  color: var(--sklearn-color-text);\n",
       "  background-color: var(--sklearn-color-fitted-level-2);\n",
       "}\n",
       "\n",
       "/* Estimator label */\n",
       "\n",
       "#sk-container-id-1 div.sk-label label {\n",
       "  font-family: monospace;\n",
       "  font-weight: bold;\n",
       "  display: inline-block;\n",
       "  line-height: 1.2em;\n",
       "}\n",
       "\n",
       "#sk-container-id-1 div.sk-label-container {\n",
       "  text-align: center;\n",
       "}\n",
       "\n",
       "/* Estimator-specific */\n",
       "#sk-container-id-1 div.sk-estimator {\n",
       "  font-family: monospace;\n",
       "  border: 1px dotted var(--sklearn-color-border-box);\n",
       "  border-radius: 0.25em;\n",
       "  box-sizing: border-box;\n",
       "  margin-bottom: 0.5em;\n",
       "  /* unfitted */\n",
       "  background-color: var(--sklearn-color-unfitted-level-0);\n",
       "}\n",
       "\n",
       "#sk-container-id-1 div.sk-estimator.fitted {\n",
       "  /* fitted */\n",
       "  background-color: var(--sklearn-color-fitted-level-0);\n",
       "}\n",
       "\n",
       "/* on hover */\n",
       "#sk-container-id-1 div.sk-estimator:hover {\n",
       "  /* unfitted */\n",
       "  background-color: var(--sklearn-color-unfitted-level-2);\n",
       "}\n",
       "\n",
       "#sk-container-id-1 div.sk-estimator.fitted:hover {\n",
       "  /* fitted */\n",
       "  background-color: var(--sklearn-color-fitted-level-2);\n",
       "}\n",
       "\n",
       "/* Specification for estimator info (e.g. \"i\" and \"?\") */\n",
       "\n",
       "/* Common style for \"i\" and \"?\" */\n",
       "\n",
       ".sk-estimator-doc-link,\n",
       "a:link.sk-estimator-doc-link,\n",
       "a:visited.sk-estimator-doc-link {\n",
       "  float: right;\n",
       "  font-size: smaller;\n",
       "  line-height: 1em;\n",
       "  font-family: monospace;\n",
       "  background-color: var(--sklearn-color-background);\n",
       "  border-radius: 1em;\n",
       "  height: 1em;\n",
       "  width: 1em;\n",
       "  text-decoration: none !important;\n",
       "  margin-left: 1ex;\n",
       "  /* unfitted */\n",
       "  border: var(--sklearn-color-unfitted-level-1) 1pt solid;\n",
       "  color: var(--sklearn-color-unfitted-level-1);\n",
       "}\n",
       "\n",
       ".sk-estimator-doc-link.fitted,\n",
       "a:link.sk-estimator-doc-link.fitted,\n",
       "a:visited.sk-estimator-doc-link.fitted {\n",
       "  /* fitted */\n",
       "  border: var(--sklearn-color-fitted-level-1) 1pt solid;\n",
       "  color: var(--sklearn-color-fitted-level-1);\n",
       "}\n",
       "\n",
       "/* On hover */\n",
       "div.sk-estimator:hover .sk-estimator-doc-link:hover,\n",
       ".sk-estimator-doc-link:hover,\n",
       "div.sk-label-container:hover .sk-estimator-doc-link:hover,\n",
       ".sk-estimator-doc-link:hover {\n",
       "  /* unfitted */\n",
       "  background-color: var(--sklearn-color-unfitted-level-3);\n",
       "  color: var(--sklearn-color-background);\n",
       "  text-decoration: none;\n",
       "}\n",
       "\n",
       "div.sk-estimator.fitted:hover .sk-estimator-doc-link.fitted:hover,\n",
       ".sk-estimator-doc-link.fitted:hover,\n",
       "div.sk-label-container:hover .sk-estimator-doc-link.fitted:hover,\n",
       ".sk-estimator-doc-link.fitted:hover {\n",
       "  /* fitted */\n",
       "  background-color: var(--sklearn-color-fitted-level-3);\n",
       "  color: var(--sklearn-color-background);\n",
       "  text-decoration: none;\n",
       "}\n",
       "\n",
       "/* Span, style for the box shown on hovering the info icon */\n",
       ".sk-estimator-doc-link span {\n",
       "  display: none;\n",
       "  z-index: 9999;\n",
       "  position: relative;\n",
       "  font-weight: normal;\n",
       "  right: .2ex;\n",
       "  padding: .5ex;\n",
       "  margin: .5ex;\n",
       "  width: min-content;\n",
       "  min-width: 20ex;\n",
       "  max-width: 50ex;\n",
       "  color: var(--sklearn-color-text);\n",
       "  box-shadow: 2pt 2pt 4pt #999;\n",
       "  /* unfitted */\n",
       "  background: var(--sklearn-color-unfitted-level-0);\n",
       "  border: .5pt solid var(--sklearn-color-unfitted-level-3);\n",
       "}\n",
       "\n",
       ".sk-estimator-doc-link.fitted span {\n",
       "  /* fitted */\n",
       "  background: var(--sklearn-color-fitted-level-0);\n",
       "  border: var(--sklearn-color-fitted-level-3);\n",
       "}\n",
       "\n",
       ".sk-estimator-doc-link:hover span {\n",
       "  display: block;\n",
       "}\n",
       "\n",
       "/* \"?\"-specific style due to the `<a>` HTML tag */\n",
       "\n",
       "#sk-container-id-1 a.estimator_doc_link {\n",
       "  float: right;\n",
       "  font-size: 1rem;\n",
       "  line-height: 1em;\n",
       "  font-family: monospace;\n",
       "  background-color: var(--sklearn-color-background);\n",
       "  border-radius: 1rem;\n",
       "  height: 1rem;\n",
       "  width: 1rem;\n",
       "  text-decoration: none;\n",
       "  /* unfitted */\n",
       "  color: var(--sklearn-color-unfitted-level-1);\n",
       "  border: var(--sklearn-color-unfitted-level-1) 1pt solid;\n",
       "}\n",
       "\n",
       "#sk-container-id-1 a.estimator_doc_link.fitted {\n",
       "  /* fitted */\n",
       "  border: var(--sklearn-color-fitted-level-1) 1pt solid;\n",
       "  color: var(--sklearn-color-fitted-level-1);\n",
       "}\n",
       "\n",
       "/* On hover */\n",
       "#sk-container-id-1 a.estimator_doc_link:hover {\n",
       "  /* unfitted */\n",
       "  background-color: var(--sklearn-color-unfitted-level-3);\n",
       "  color: var(--sklearn-color-background);\n",
       "  text-decoration: none;\n",
       "}\n",
       "\n",
       "#sk-container-id-1 a.estimator_doc_link.fitted:hover {\n",
       "  /* fitted */\n",
       "  background-color: var(--sklearn-color-fitted-level-3);\n",
       "}\n",
       "</style><div id=\"sk-container-id-1\" class=\"sk-top-container\"><div class=\"sk-text-repr-fallback\"><pre>LinearRegression()</pre><b>In a Jupyter environment, please rerun this cell to show the HTML representation or trust the notebook. <br />On GitHub, the HTML representation is unable to render, please try loading this page with nbviewer.org.</b></div><div class=\"sk-container\" hidden><div class=\"sk-item\"><div class=\"sk-estimator fitted sk-toggleable\"><input class=\"sk-toggleable__control sk-hidden--visually\" id=\"sk-estimator-id-1\" type=\"checkbox\" checked><label for=\"sk-estimator-id-1\" class=\"sk-toggleable__label fitted sk-toggleable__label-arrow fitted\">&nbsp;&nbsp;LinearRegression<a class=\"sk-estimator-doc-link fitted\" rel=\"noreferrer\" target=\"_blank\" href=\"https://scikit-learn.org/1.5/modules/generated/sklearn.linear_model.LinearRegression.html\">?<span>Documentation for LinearRegression</span></a><span class=\"sk-estimator-doc-link fitted\">i<span>Fitted</span></span></label><div class=\"sk-toggleable__content fitted\"><pre>LinearRegression()</pre></div> </div></div></div></div>"
      ],
      "text/plain": [
       "LinearRegression()"
      ]
     },
     "execution_count": 11,
     "metadata": {},
     "output_type": "execute_result"
    }
   ],
   "source": [
    "# fit is a method inside LinearRegression class - they are like functions.\n",
    "model.fit(X_train, y_train)"
   ]
  },
  {
   "cell_type": "markdown",
   "metadata": {},
   "source": [
    "### Inference"
   ]
  },
  {
   "cell_type": "code",
   "execution_count": 12,
   "metadata": {},
   "outputs": [
    {
     "data": {
      "text/plain": [
       "array([ 7.05353422, 15.01482059, 16.73216096, 10.12324841,  8.77426246,\n",
       "       12.39678244, 13.20025833, 18.61633316, 11.88797654, 11.31297738,\n",
       "       10.64625397, 10.12396347, 13.55350187,  8.214679  , 18.43829166,\n",
       "       12.3971555 , 13.22382296, 12.28171319, 10.81735967,  9.98484317,\n",
       "       12.17499414, 10.15237426, 17.56861737, 13.34535709, 12.66924198,\n",
       "        0.54355767, 12.43044408, 13.52927621, 10.84652894, 12.77772412,\n",
       "       13.89241241, 16.36720256, 13.0849591 , 16.03020694, 12.83752697,\n",
       "        8.70506817,  9.07048318, 11.29535404, 12.91436152, 10.99768721,\n",
       "       15.33039509, 17.61399571, 11.4436791 , 13.41488145, 12.19823752,\n",
       "        8.93040764, 12.98529657,  8.70086986, 11.26368251,  9.30412471,\n",
       "        5.40942958, 13.97099401,  9.06857624, 12.11341249,  6.7617014 ,\n",
       "       11.6309563 , 11.50512219, 11.42073961, 14.44210266, 14.75788674,\n",
       "       13.70397339,  6.8618724 , 11.54561719,  8.99891775, 13.44867573,\n",
       "       12.50136151, 11.62669196, 13.08678903, 14.8435336 ,  6.50707284,\n",
       "        7.97397718, 11.17885995, 13.75615924, 10.44696329, 14.74516802,\n",
       "       13.71469705, 13.73590741, 11.37163863, 13.53438528, 12.11064321,\n",
       "       14.79766664,  8.81526447,  9.89542523, 13.42704971, 18.55227217,\n",
       "       11.12487307, 10.84839923, 13.67037961, 13.27398863, 13.4814215 ,\n",
       "       11.11859972, 15.96224724, 18.52220379, 11.71019723,  7.60634242,\n",
       "       10.20184877, 13.76169797, 11.40130227, 13.57093213, 14.7838503 ,\n",
       "       12.55999507,  9.45593232,  5.60238468, 11.08811173, 10.01742103,\n",
       "       11.37940445, 16.72408102, 10.63807328,  9.98725524, 15.64616998,\n",
       "       11.6627156 , 13.50045665, 14.74802802, 13.23104466, 11.48383251,\n",
       "       10.15058429, 15.5988181 , 16.2952188 , 10.05951558, 11.59804913,\n",
       "        7.52291568, 10.3139219 ,  9.78683076, 10.74618886, 13.34078936,\n",
       "       15.68506877, 15.01665324, 16.76762076, 12.01444904, 10.36144373])"
      ]
     },
     "execution_count": 12,
     "metadata": {},
     "output_type": "execute_result"
    }
   ],
   "source": [
    "y_pred = model.predict(X_test)\n",
    "y_pred"
   ]
  },
  {
   "cell_type": "markdown",
   "metadata": {},
   "source": [
    "#### Making the prediction of a single data point with S= 6\tsx= 2500 age= 18\tadd= 3000\tfs= 3200\tps= 3500 Medu= 4\tFedu= 4\tMjob- 3600\tFjob = 3900\treas= 4100\tguar = 4400\ttrav = 2 stud = 2\tfail= 0\tschoolsup = 1 famsup = 2\tpaid = 2 act = 2 nursery = 1\thigh = 1 int =\t2\trom = 2\tfamrel = 4\tfreet = 3\tgoout= 4\tdalc= 1 walc =\t1\thealth = 3\tabsences = 4\tG1= 0\tG2 = 11\tG3 = 11"
   ]
  },
  {
   "cell_type": "code",
   "execution_count": 18,
   "metadata": {},
   "outputs": [
    {
     "data": {
      "text/plain": [
       "array([9.94620331])"
      ]
     },
     "execution_count": 18,
     "metadata": {},
     "output_type": "execute_result"
    }
   ],
   "source": [
    "model.predict([[6\t,0\t,18,\t3000,\t3200,\t3500,\t4,\t4,\t3600,\t3900,\t4100,\t4400,\t2,\t2,\t0,\t1,\t2,\t2,2\t,1,\t1\t,2,2,\t4,\t3,\t4,\t1,\t1,\t3,\t4,\t0,\t11\n",
    "]])"
   ]
  },
  {
   "cell_type": "markdown",
   "metadata": {},
   "source": [
    "## Part 3: Evaluating the Model"
   ]
  },
  {
   "cell_type": "markdown",
   "metadata": {},
   "source": [
    "### R-Squared"
   ]
  },
  {
   "cell_type": "code",
   "execution_count": 14,
   "metadata": {},
   "outputs": [
    {
     "data": {
      "text/plain": [
       "0.8565875454853226"
      ]
     },
     "execution_count": 14,
     "metadata": {},
     "output_type": "execute_result"
    }
   ],
   "source": [
    "from sklearn.metrics import r2_score\n",
    "r2 = r2_score(y_test, y_pred)\n",
    "r2"
   ]
  },
  {
   "cell_type": "markdown",
   "metadata": {},
   "source": [
    "### Adjusted R-Squared"
   ]
  },
  {
   "cell_type": "code",
   "execution_count": 15,
   "metadata": {},
   "outputs": [
    {
     "data": {
      "text/plain": [
       "0.8092762202846042"
      ]
     },
     "execution_count": 15,
     "metadata": {},
     "output_type": "execute_result"
    }
   ],
   "source": [
    "k = X_test.shape[1]\n",
    "n = X_test.shape[0]\n",
    "adj_r2 = 1-(1-r2)*(n-1)/(n-k-1)\n",
    "adj_r2"
   ]
  }
 ],
 "metadata": {
  "kernelspec": {
   "display_name": "venv",
   "language": "python",
   "name": "python3"
  },
  "language_info": {
   "codemirror_mode": {
    "name": "ipython",
    "version": 3
   },
   "file_extension": ".py",
   "mimetype": "text/x-python",
   "name": "python",
   "nbconvert_exporter": "python",
   "pygments_lexer": "ipython3",
   "version": "3.10.11"
  }
 },
 "nbformat": 4,
 "nbformat_minor": 2
}
